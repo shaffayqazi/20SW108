{
  "nbformat": 4,
  "nbformat_minor": 0,
  "metadata": {
    "colab": {
      "provenance": [],
      "authorship_tag": "ABX9TyMppsdQ2GPsby2p3aqT2ub7",
      "include_colab_link": true
    },
    "kernelspec": {
      "name": "python3",
      "display_name": "Python 3"
    },
    "language_info": {
      "name": "python"
    }
  },
  "cells": [
    {
      "cell_type": "markdown",
      "metadata": {
        "id": "view-in-github",
        "colab_type": "text"
      },
      "source": [
        "<a href=\"https://colab.research.google.com/github/shaffayqazi/20SW108/blob/main/LAB_1_20sw108.ipynb\" target=\"_parent\"><img src=\"https://colab.research.google.com/assets/colab-badge.svg\" alt=\"Open In Colab\"/></a>"
      ]
    },
    {
      "cell_type": "markdown",
      "source": [
        "## **Lab#01-Data Types and Operators**\n",
        "## **20sw108**\n",
        "## **Section#2**"
      ],
      "metadata": {
        "id": "wIHQoXrXIl8c"
      }
    },
    {
      "cell_type": "markdown",
      "source": [
        "#Task1\n",
        "\n",
        " Write two lines of code below, each assigning a value to a variable# Now write a print statement using .format() to print out a sentence and the #   values of both of the variables"
      ],
      "metadata": {
        "id": "TY7nMnI1KMo9"
      }
    },
    {
      "cell_type": "code",
      "execution_count": 11,
      "metadata": {
        "id": "V2ry3g1lICKu"
      },
      "outputs": [],
      "source": [
        "num1 = 10\n",
        "variable2 = 5.5"
      ]
    },
    {
      "cell_type": "code",
      "source": [
        "print(\"the variable1 is {} and the variable2 is {}\".format(num1,num2))"
      ],
      "metadata": {
        "colab": {
          "base_uri": "https://localhost:8080/"
        },
        "id": "FMd-Txy3IF7c",
        "outputId": "9b1b3714-8ad6-4770-f3fb-f4fcbc4ab1ec"
      },
      "execution_count": 12,
      "outputs": [
        {
          "output_type": "stream",
          "name": "stdout",
          "text": [
            "the variable1 is 10 and the variable2 is 5.5\n"
          ]
        }
      ]
    },
    {
      "cell_type": "markdown",
      "source": [
        "# Task2\n",
        " Browse the complete list of string methods at:# https://docs.python.org/3/library/stdtypes.html#string-methods# and try them out here"
      ],
      "metadata": {
        "id": "v-omY1HeKFjW"
      }
    },
    {
      "cell_type": "code",
      "source": [
        "text = \"hello world\"\n",
        "capitalized_text = text.capitalize()\n",
        "print(capitalized_text)"
      ],
      "metadata": {
        "colab": {
          "base_uri": "https://localhost:8080/"
        },
        "id": "3gY07wD3JaCS",
        "outputId": "069675a5-6e5b-405b-e399-010a49f23410"
      },
      "execution_count": 14,
      "outputs": [
        {
          "output_type": "stream",
          "name": "stdout",
          "text": [
            "Hello world\n"
          ]
        }
      ]
    },
    {
      "cell_type": "code",
      "source": [
        "text = \"hello world\"\n",
        "uppercase_text = text.upper()\n",
        "print(uppercase_text)"
      ],
      "metadata": {
        "colab": {
          "base_uri": "https://localhost:8080/"
        },
        "id": "nGfe9rq4JscJ",
        "outputId": "cf34739d-c71d-4f4c-e85b-17278439fe2b"
      },
      "execution_count": 15,
      "outputs": [
        {
          "output_type": "stream",
          "name": "stdout",
          "text": [
            "HELLO WORLD\n"
          ]
        }
      ]
    },
    {
      "cell_type": "code",
      "source": [
        "text = \"Hello World\"\n",
        "lowercase_text = text.lower()\n",
        "print(lowercase_text)"
      ],
      "metadata": {
        "colab": {
          "base_uri": "https://localhost:8080/"
        },
        "id": "ZDhy4PYuJufx",
        "outputId": "f6237f5a-7737-47f8-96e4-4a108a3d065b"
      },
      "execution_count": 17,
      "outputs": [
        {
          "output_type": "stream",
          "name": "stdout",
          "text": [
            "hello world\n"
          ]
        }
      ]
    },
    {
      "cell_type": "code",
      "source": [
        "text = \"Hello World\"\n",
        "swapped_text = text.swapcase()\n",
        "print(swapped_text)"
      ],
      "metadata": {
        "colab": {
          "base_uri": "https://localhost:8080/"
        },
        "id": "KdKughoYJzTK",
        "outputId": "f285d8c5-59d6-4ed3-8e69-8edf713f6035"
      },
      "execution_count": 19,
      "outputs": [
        {
          "output_type": "stream",
          "name": "stdout",
          "text": [
            "hELLO wORLD\n"
          ]
        }
      ]
    },
    {
      "cell_type": "code",
      "source": [
        "text = \"hello world\"\n",
        "title_text = text.title()\n",
        "print(title_text)"
      ],
      "metadata": {
        "colab": {
          "base_uri": "https://localhost:8080/"
        },
        "id": "N7aERvgFJ2XI",
        "outputId": "69a37426-0b6c-4ffe-c77e-875eba3a55b9"
      },
      "execution_count": 21,
      "outputs": [
        {
          "output_type": "stream",
          "name": "stdout",
          "text": [
            "Hello World\n"
          ]
        }
      ]
    },
    {
      "cell_type": "code",
      "source": [
        "text = \"hello world\"\n",
        "count_o = text.count('o')\n",
        "print(count_o)"
      ],
      "metadata": {
        "colab": {
          "base_uri": "https://localhost:8080/"
        },
        "id": "qOCKi1GnJ4ei",
        "outputId": "d6dae5d7-f04d-46ce-c52a-e6a7d6f83fcb"
      },
      "execution_count": 23,
      "outputs": [
        {
          "output_type": "stream",
          "name": "stdout",
          "text": [
            "2\n"
          ]
        }
      ]
    },
    {
      "cell_type": "code",
      "source": [
        "text = \"hello world\"\n",
        "index_o = text.find('o')\n",
        "print(index_o)"
      ],
      "metadata": {
        "colab": {
          "base_uri": "https://localhost:8080/"
        },
        "id": "KNsfCTJJJ6fM",
        "outputId": "2fa4126f-a610-402d-9a3d-e7b6d9a79ea1"
      },
      "execution_count": 24,
      "outputs": [
        {
          "output_type": "stream",
          "name": "stdout",
          "text": [
            "4\n"
          ]
        }
      ]
    },
    {
      "cell_type": "code",
      "source": [
        "text = \"hello world\"\n",
        "new_text = text.replace('world', 'Python')\n",
        "print(new_text)"
      ],
      "metadata": {
        "colab": {
          "base_uri": "https://localhost:8080/"
        },
        "id": "VoB62Oq_J7LD",
        "outputId": "03b9f14b-16be-4a33-d57a-50d7d7690ad8"
      },
      "execution_count": 25,
      "outputs": [
        {
          "output_type": "stream",
          "name": "stdout",
          "text": [
            "hello Python\n"
          ]
        }
      ]
    },
    {
      "cell_type": "code",
      "source": [
        "text = \"hello world\"\n",
        "splitted_text = text.split(' ')\n",
        "print(splitted_text)"
      ],
      "metadata": {
        "colab": {
          "base_uri": "https://localhost:8080/"
        },
        "id": "YHw0WiTjJ83G",
        "outputId": "1c323e58-4b0c-4c7c-8ce5-2994de926f5f"
      },
      "execution_count": 26,
      "outputs": [
        {
          "output_type": "stream",
          "name": "stdout",
          "text": [
            "['hello', 'world']\n"
          ]
        }
      ]
    },
    {
      "cell_type": "code",
      "source": [
        "words = [\"hello\", \"world\"]\n",
        "joined_text = '-'.join(words)\n",
        "print(joined_text)"
      ],
      "metadata": {
        "colab": {
          "base_uri": "https://localhost:8080/"
        },
        "id": "VAQLNWHqJ-fh",
        "outputId": "caad838d-e97a-45f1-8d3f-90dfafa8f60b"
      },
      "execution_count": 27,
      "outputs": [
        {
          "output_type": "stream",
          "name": "stdout",
          "text": [
            "hello-world\n"
          ]
        }
      ]
    },
    {
      "cell_type": "code",
      "source": [
        "text = \"   hello world   \"\n",
        "stripped_text = text.strip()\n",
        "print(stripped_text)"
      ],
      "metadata": {
        "colab": {
          "base_uri": "https://localhost:8080/"
        },
        "id": "_S66e0zNKAYf",
        "outputId": "77293571-161e-403d-adbe-ea2539aa097d"
      },
      "execution_count": 28,
      "outputs": [
        {
          "output_type": "stream",
          "name": "stdout",
          "text": [
            "hello world\n"
          ]
        }
      ]
    },
    {
      "cell_type": "markdown",
      "source": [
        "#Task 3\n",
        "Use list indexing to determine how many days are in a particular month based on the integer variablemonth, and store that value in the integer variablenum_days. For example, ifmonthis 8,num_daysshould be set to 31, since the eighth month, August, has31 days.Remember to account for zero-based indexing!"
      ],
      "metadata": {
        "id": "r72zYNsCLfVm"
      }
    },
    {
      "cell_type": "code",
      "source": [
        "month = 8\n",
        "month_days = [31, 28, 31, 30, 31, 30, 31, 31, 30, 31, 30, 31]\n",
        "\n",
        "num_days = month_days[month - 1]\n",
        "\n",
        "print(\"The number of days in month %s is %d\" % (month, num_days))"
      ],
      "metadata": {
        "colab": {
          "base_uri": "https://localhost:8080/"
        },
        "id": "zPSoA-Y0KDcF",
        "outputId": "c20acab0-a01a-4151-8307-d446e6f74463"
      },
      "execution_count": 35,
      "outputs": [
        {
          "output_type": "stream",
          "name": "stdout",
          "text": [
            "The number of days in month 8 is 31\n"
          ]
        }
      ]
    },
    {
      "cell_type": "markdown",
      "source": [
        "# Task 4\n",
        "Select the three most recent dates from this list using list slicing notation. Hint: negative indexes work in slices!"
      ],
      "metadata": {
        "id": "yXlvfLP8MiAA"
      }
    },
    {
      "cell_type": "code",
      "source": [
        "eclipse_dates = ['June 21, 2001', 'December 4, 2002', 'November 23, 2003',\n",
        "                 'March 29, 2006', 'August 1, 2008', 'July 22, 2009',\n",
        "                 'July 11, 2010', 'November 13, 2012', 'March 20, 2015',\n",
        "                 'March 9, 2016']\n",
        "\n",
        "print(eclipse_dates[-3:])"
      ],
      "metadata": {
        "colab": {
          "base_uri": "https://localhost:8080/"
        },
        "id": "A_ddhjklKxhO",
        "outputId": "11eec905-2aab-4948-b003-408da273d6ec"
      },
      "execution_count": 36,
      "outputs": [
        {
          "output_type": "stream",
          "name": "stdout",
          "text": [
            "['November 13, 2012', 'March 20, 2015', 'March 9, 2016']\n"
          ]
        }
      ]
    },
    {
      "cell_type": "markdown",
      "source": [
        "# Task 5\n",
        "Store student’s data using nested dictionary."
      ],
      "metadata": {
        "id": "CY93g8HwMteE"
      }
    },
    {
      "cell_type": "code",
      "source": [
        "students = {\n",
        "    \"student1\": {\n",
        "        \"name\": \"Alice\",\n",
        "        \"age\": 18,\n",
        "        \"grade\": \"12th\"\n",
        "    },\n",
        "    \"student2\": {\n",
        "        \"name\": \"Bob\",\n",
        "        \"age\": 17,\n",
        "        \"grade\": \"11th\"\n",
        "    },\n",
        "    \"student3\": {\n",
        "        \"name\": \"Charlie\",\n",
        "        \"age\": 16,\n",
        "        \"grade\": \"10th\"\n",
        "    }\n",
        "}\n"
      ],
      "metadata": {
        "id": "GLJlj4EKMhZU"
      },
      "execution_count": 40,
      "outputs": []
    },
    {
      "cell_type": "code",
      "source": [
        "\n",
        "print(students[\"student1\"][\"name\"])\n",
        "\n",
        "print(students[\"student2\"][\"age\"])\n",
        "\n",
        "print(students[\"student3\"][\"grade\"])\n"
      ],
      "metadata": {
        "colab": {
          "base_uri": "https://localhost:8080/"
        },
        "id": "HEPqXIW1Mn86",
        "outputId": "d8f36489-a7dc-4601-f0ae-f211aea48700"
      },
      "execution_count": 41,
      "outputs": [
        {
          "output_type": "stream",
          "name": "stdout",
          "text": [
            "Alice\n",
            "17\n",
            "10th\n"
          ]
        }
      ]
    },
    {
      "cell_type": "code",
      "source": [],
      "metadata": {
        "id": "wTI8pZeONHzp"
      },
      "execution_count": null,
      "outputs": []
    }
  ]
}