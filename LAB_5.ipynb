{
  "nbformat": 4,
  "nbformat_minor": 0,
  "metadata": {
    "colab": {
      "provenance": [],
      "mount_file_id": "14owz7lk3FAZtdJMZ9Nh2vv8txdU3f0Tx",
      "authorship_tag": "ABX9TyOJu/PzbDAPFb3KbqiX1hxg",
      "include_colab_link": true
    },
    "kernelspec": {
      "name": "python3",
      "display_name": "Python 3"
    },
    "language_info": {
      "name": "python"
    }
  },
  "cells": [
    {
      "cell_type": "markdown",
      "metadata": {
        "id": "view-in-github",
        "colab_type": "text"
      },
      "source": [
        "<a href=\"https://colab.research.google.com/github/shaffayqazi/20SW108/blob/main/LAB_5.ipynb\" target=\"_parent\"><img src=\"https://colab.research.google.com/assets/colab-badge.svg\" alt=\"Open In Colab\"/></a>"
      ]
    },
    {
      "cell_type": "code",
      "source": [
        "import pandas as pd\n",
        "import numpy as np"
      ],
      "metadata": {
        "id": "uoi2ZYqEMEcY"
      },
      "execution_count": 7,
      "outputs": []
    },
    {
      "cell_type": "markdown",
      "source": [
        "#**Task 1**"
      ],
      "metadata": {
        "id": "wQB-dsewLZmg"
      }
    },
    {
      "cell_type": "code",
      "source": [
        "\n",
        "\n",
        "distance_from_sun = [149.6, 1433.5, 227.9, 108.2, 778.6]\n",
        "planets = ['Earth', 'Saturn', 'Mars', 'Venus', 'Jupiter']\n",
        "\n",
        "dist_planets = pd.Series(distance_from_sun, index=planets)\n",
        "\n",
        "speed_of_light = 18\n",
        "time_light = dist_planets / speed_of_light\n",
        "\n",
        "close_planets = dist_planets[time_light < 40]\n",
        "\n",
        "print(dist_planets)\n",
        "print(time_light)\n",
        "print(close_planets)"
      ],
      "metadata": {
        "colab": {
          "base_uri": "https://localhost:8080/"
        },
        "id": "INOAEf2CLZNr",
        "outputId": "83db9b16-c7a9-4a32-9b20-c5f1ce202ec4"
      },
      "execution_count": 8,
      "outputs": [
        {
          "output_type": "stream",
          "name": "stdout",
          "text": [
            "Earth       149.6\n",
            "Saturn     1433.5\n",
            "Mars        227.9\n",
            "Venus       108.2\n",
            "Jupiter     778.6\n",
            "dtype: float64\n",
            "Earth       8.311111\n",
            "Saturn     79.638889\n",
            "Mars       12.661111\n",
            "Venus       6.011111\n",
            "Jupiter    43.255556\n",
            "dtype: float64\n",
            "Earth    149.6\n",
            "Mars     227.9\n",
            "Venus    108.2\n",
            "dtype: float64\n"
          ]
        }
      ]
    },
    {
      "cell_type": "markdown",
      "source": [
        "#**Task 2**"
      ],
      "metadata": {
        "id": "2TwoyR7HLuQ7"
      }
    },
    {
      "cell_type": "code",
      "source": [
        "import pandas as pd\n",
        "import numpy as np\n",
        "\n",
        "books = pd.Series(data=['Great Expectations', 'Of Mice and Men', 'Romeo and Juliet', 'The Time Machine', 'Alice in Wonderland'])\n",
        "authors = pd.Series(data=['Charles Dickens', 'John Steinbeck', 'William Shakespeare', 'H. G. Wells', 'Lewis Carroll'])\n",
        "user_1 = pd.Series(data=[3.2, np.nan, 2.5])\n",
        "user_2 = pd.Series(data=[5., 1.3, 4.0, 3.8])\n",
        "user_3 = pd.Series(data=[2.0, 2.3, np.nan, 4])\n",
        "user_4 = pd.Series(data=[4, 3.5, 4, 5, 4.2])\n",
        "\n",
        "dat = {'Author': authors, 'Book Title': books, 'User 1': user_1, 'User 2': user_2, 'User 3': user_3, 'User 4': user_4}\n",
        "\n",
        "book_ratings = pd.DataFrame(dat)\n",
        "\n",
        "book_ratings.fillna(book_ratings.mean(), inplace=True)\n",
        "\n",
        "best_rated = book_ratings[(book_ratings == 5).any(axis=1)]['Book Title'].values\n",
        "\n",
        "print(book_ratings)\n",
        "print(best_rated)\n",
        "\n"
      ],
      "metadata": {
        "colab": {
          "base_uri": "https://localhost:8080/"
        },
        "id": "rYXK00W0Ltjj",
        "outputId": "6471f3ef-fbaa-4cc9-f4a9-46edf09d1837"
      },
      "execution_count": 14,
      "outputs": [
        {
          "output_type": "stream",
          "name": "stdout",
          "text": [
            "                Author           Book Title  User 1  User 2    User 3  User 4\n",
            "0      Charles Dickens   Great Expectations    3.20   5.000  2.000000     4.0\n",
            "1       John Steinbeck      Of Mice and Men    2.85   1.300  2.300000     3.5\n",
            "2  William Shakespeare     Romeo and Juliet    2.50   4.000  2.766667     4.0\n",
            "3          H. G. Wells     The Time Machine    2.85   3.800  4.000000     5.0\n",
            "4        Lewis Carroll  Alice in Wonderland    2.85   3.525  2.766667     4.2\n",
            "['Great Expectations' 'The Time Machine']\n"
          ]
        },
        {
          "output_type": "stream",
          "name": "stderr",
          "text": [
            "<ipython-input-14-16d47de65b28>:15: FutureWarning: The default value of numeric_only in DataFrame.mean is deprecated. In a future version, it will default to False. In addition, specifying 'numeric_only=None' is deprecated. Select only valid columns or specify the value of numeric_only to silence this warning.\n",
            "  book_ratings.fillna(book_ratings.mean(), inplace=True)\n"
          ]
        }
      ]
    },
    {
      "cell_type": "markdown",
      "source": [
        "#**Task 3**"
      ],
      "metadata": {
        "id": "XvtI3PBgR4xT"
      }
    },
    {
      "cell_type": "markdown",
      "source": [
        "task 3 is in files of the colab. right on the left side of the bar"
      ],
      "metadata": {
        "id": "I3eyk0xDXK3W"
      }
    }
  ]
}